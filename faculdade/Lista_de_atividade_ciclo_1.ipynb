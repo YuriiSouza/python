{
  "nbformat": 4,
  "nbformat_minor": 0,
  "metadata": {
    "colab": {
      "provenance": []
    },
    "kernelspec": {
      "name": "python3",
      "display_name": "Python 3"
    },
    "language_info": {
      "name": "python"
    }
  },
  "cells": [
    {
      "cell_type": "code",
      "execution_count": null,
      "metadata": {
        "colab": {
          "base_uri": "https://localhost:8080/"
        },
        "id": "3GGT9dvLcmG5",
        "outputId": "50df207b-3144-4756-cdcb-96fce4d7e580"
      },
      "outputs": [
        {
          "output_type": "stream",
          "name": "stdout",
          "text": [
            "Número 1:2\n",
            "Número 2:2\n",
            "a soma é 4\n"
          ]
        }
      ],
      "source": [
        "#numero 1\n",
        "n1 = int(input(\"Número 1:\"))\n",
        "n2 = int(input(\"Número 2:\"))\n",
        "\n",
        "soma = n1 + n2\n",
        "\n",
        "print(f\"a soma é {soma}\")"
      ]
    },
    {
      "cell_type": "code",
      "source": [
        "#número 2\n",
        "numeros = []\n",
        "maior = 0\n",
        "\n",
        "quant_numeros = 3\n",
        "\n",
        "for n in range(0, quant_numeros):\n",
        "    numeros.append(float(input(\"Adcine o número: \")))\n",
        "\n",
        "\n",
        "for n in numeros:\n",
        "    if n > maior:\n",
        "        maior = n\n",
        "    else:\n",
        "        maior = maior\n",
        "\n",
        "print(f\"Maior = {maior}\")\n"
      ],
      "metadata": {
        "colab": {
          "base_uri": "https://localhost:8080/"
        },
        "id": "e6ENHBNDc13w",
        "outputId": "3d2e0e80-5deb-4ad4-f207-f95e238a3f94"
      },
      "execution_count": null,
      "outputs": [
        {
          "output_type": "stream",
          "name": "stdout",
          "text": [
            "Adcine o número: 1\n",
            "Adcine o número: 2\n",
            "Adcine o número: 3\n",
            "Maior = 3.0\n"
          ]
        }
      ]
    },
    {
      "cell_type": "code",
      "source": [
        "#número 3\n",
        "numeros = []\n",
        "\n",
        "quant_numeros = 3\n",
        "\n",
        "for n in range(0, quant_numeros):\n",
        "    numeros.append(float(input(\"Adcine o número: \")))\n",
        "\n",
        "\n",
        "for index, n in enumerate(numeros):\n",
        "    if index == 0:\n",
        "      menor = n\n",
        "    elif menor > n:\n",
        "      menor = n\n",
        "    else:\n",
        "      menor = menor\n",
        "\n",
        "print(f\"Menor = {menor}\")\n"
      ],
      "metadata": {
        "id": "befLZuzgfwv-",
        "colab": {
          "base_uri": "https://localhost:8080/"
        },
        "outputId": "0a09efe5-9fd9-491b-d367-ab9cfb702a83"
      },
      "execution_count": 2,
      "outputs": [
        {
          "output_type": "stream",
          "name": "stdout",
          "text": [
            "Adcine o número: 20\n",
            "Adcine o número: 10\n",
            "Adcine o número: 5\n",
            "Menor = 5.0\n"
          ]
        }
      ]
    },
    {
      "cell_type": "code",
      "source": [
        "#numero 4\n",
        "from time import sleep\n",
        "from random import randint\n",
        "\n",
        "cont = 0\n",
        "while True:\n",
        "    indice_de_gravidade = randint(0, 10)\n",
        "\n",
        "    if indice_de_gravidade > 9:\n",
        "        print(\"Grave\")\n",
        "        cont = cont + 1\n",
        "        sleep(1)\n",
        "    else:\n",
        "        print(\".\")\n",
        "        sleep(1)\n",
        "\n",
        "    if cont >= 3:\n",
        "        print(\"explodiu\")\n",
        "        sleep(2)\n",
        "        break\n"
      ],
      "metadata": {
        "id": "9vi88-wlhac4",
        "colab": {
          "base_uri": "https://localhost:8080/"
        },
        "outputId": "16108e49-6923-44d6-f52f-27b7a4d9ca96"
      },
      "execution_count": 3,
      "outputs": [
        {
          "output_type": "stream",
          "name": "stdout",
          "text": [
            ".\n",
            ".\n",
            ".\n",
            ".\n",
            ".\n",
            ".\n",
            "Grave\n",
            ".\n",
            ".\n",
            ".\n",
            ".\n",
            ".\n",
            "Grave\n",
            ".\n",
            ".\n",
            ".\n",
            "Grave\n",
            "explodiu\n"
          ]
        }
      ]
    },
    {
      "cell_type": "code",
      "source": [
        "#numero 5\n",
        "from time import sleep\n",
        "\n",
        "cont = 0\n",
        "while True:\n",
        "    while True:\n",
        "        indice_de_gravidade = int(input(\"Nível de risco: \"))\n",
        "\n",
        "        if indice_de_gravidade > 0 and indice_de_gravidade <= 10:\n",
        "            break\n",
        "\n",
        "    if indice_de_gravidade > 9:\n",
        "        print(\"Grave\")\n",
        "        cont = cont + 1\n",
        "        sleep(1)\n",
        "    else:\n",
        "        print(\".\")\n",
        "        sleep(1)\n",
        "\n",
        "    if cont >= 3:\n",
        "        print(\"explodiu\")\n",
        "        sleep(2)\n",
        "        break\n"
      ],
      "metadata": {
        "id": "7s0HNe0Hj3zb",
        "colab": {
          "base_uri": "https://localhost:8080/"
        },
        "outputId": "619a21f6-e61d-4245-dd49-6f031c60a8c2"
      },
      "execution_count": 4,
      "outputs": [
        {
          "output_type": "stream",
          "name": "stdout",
          "text": [
            "Nível de risco: 10\n",
            "Grave\n",
            "Nível de risco: 5\n",
            ".\n",
            "Nível de risco: 8\n",
            ".\n",
            "Nível de risco: 10\n",
            "Grave\n",
            "Nível de risco: 11\n",
            "Nível de risco: 10\n",
            "Grave\n",
            "explodiu\n"
          ]
        }
      ]
    },
    {
      "cell_type": "code",
      "source": [
        "#número 6\n",
        "from time import sleep\n",
        "from random import randint\n",
        "\n",
        "cont = 0\n",
        "while True:\n",
        "    indice_de_gravidade = randint(0, 10)\n",
        "\n",
        "\n",
        "    if indice_de_gravidade > 9:\n",
        "        print(\"Grave\")\n",
        "        cont = cont + 1\n",
        "        sleep(1)\n",
        "    elif indice_de_gravidade <= 9 and indice_de_gravidade > 6:\n",
        "        print(\"Alto\")\n",
        "        sleep(1)\n",
        "    elif indice_de_gravidade <= 6 and indice_de_gravidade > 3:\n",
        "        print(\"Médio\")\n",
        "        sleep(1)\n",
        "    elif indice_de_gravidade <= 3 and indice_de_gravidade > 0:\n",
        "        print(\"Baixo\")\n",
        "        sleep(1)\n",
        "    else:\n",
        "        print(\".\")\n",
        "        sleep(1)\n",
        "\n",
        "    if cont >= 3:\n",
        "        print(\"explodiu\")\n",
        "        sleep(2)\n",
        "        break\n"
      ],
      "metadata": {
        "id": "BhLoXXCAkmbM",
        "colab": {
          "base_uri": "https://localhost:8080/"
        },
        "outputId": "24a79a8d-8a2d-47b6-9ea0-637fa4af003e"
      },
      "execution_count": 5,
      "outputs": [
        {
          "output_type": "stream",
          "name": "stdout",
          "text": [
            "Alto\n",
            "Baixo\n",
            "Alto\n",
            "Baixo\n",
            "Médio\n",
            "Baixo\n",
            "Baixo\n",
            "Médio\n",
            "Baixo\n",
            "Médio\n",
            "Baixo\n",
            "Médio\n",
            "Médio\n",
            "Baixo\n",
            "Médio\n",
            "Baixo\n",
            "Alto\n",
            "Baixo\n",
            "Médio\n",
            "Baixo\n",
            "Alto\n",
            "Médio\n",
            "Médio\n",
            "Alto\n",
            "Baixo\n",
            "Médio\n",
            "Alto\n",
            "Médio\n",
            "Médio\n",
            "Alto\n",
            "Baixo\n",
            "Alto\n",
            ".\n",
            "Baixo\n",
            "Alto\n",
            "Médio\n",
            "Médio\n",
            ".\n",
            "Grave\n",
            "Médio\n",
            "Grave\n",
            "Alto\n",
            "Médio\n",
            "Baixo\n",
            "Baixo\n",
            "Médio\n",
            "Baixo\n",
            "Médio\n",
            "Médio\n",
            "Alto\n",
            "Baixo\n",
            ".\n",
            "Baixo\n",
            "Baixo\n",
            "Grave\n",
            "explodiu\n"
          ]
        }
      ]
    },
    {
      "cell_type": "code",
      "source": [
        "#numero 7\n",
        "\n",
        "def ver_multiplos(numero):\n",
        "    for index, n in enumerate(numero):\n",
        "        divisores = []\n",
        "\n",
        "        for i in range(index+1, len(numero)):\n",
        "            divisao = numero[index] / numero[i]\n",
        "\n",
        "            if  divisao ==  int(divisao):\n",
        "                divisores.append(numero[i])\n",
        "\n",
        "        print(f\"{numero[index]} e multiplo de {divisores}\")\n",
        "\n",
        "numero = []\n",
        "\n",
        "for n in range(0, 3):\n",
        "    n1 = int(input(\"Numero:\"))\n",
        "    numero.append(n1)\n",
        "\n",
        "numero = sorted(numero, reverse = True)\n",
        "print(numero)\n",
        "\n",
        "ver_multiplos(numero)\n",
        "\n"
      ],
      "metadata": {
        "id": "-4sq4xXbot0l",
        "colab": {
          "base_uri": "https://localhost:8080/"
        },
        "outputId": "85caaa3f-0f14-4cd0-b296-b9b8d10a5bcf"
      },
      "execution_count": 6,
      "outputs": [
        {
          "output_type": "stream",
          "name": "stdout",
          "text": [
            "Numero:5\n",
            "Numero:2\n",
            "Numero:7\n",
            "Numero:6\n",
            "Numero:2\n",
            "[7, 6, 5, 2, 2]\n",
            "7 e multiplo de []\n",
            "6 e multiplo de [2, 2]\n",
            "5 e multiplo de []\n",
            "2 e multiplo de [2]\n",
            "2 e multiplo de []\n"
          ]
        }
      ]
    },
    {
      "cell_type": "code",
      "source": [
        "#número 8\n",
        "lado1 = int(input(\"Lado 1:\"))\n",
        "lado2 = int(input(\"Lado 2:\"))\n",
        "lado3 = int(input(\"Lado 3:\"))\n",
        "\n",
        "n1 = lado1 + lado2\n",
        "n2 = lado2 + lado3\n",
        "n3 = lado3 + lado1\n",
        "\n",
        "if n1 > lado3 and n2 > lado1 and n3 > lado2:\n",
        "    if lado1 == lado2 and lado2 == lado3:\n",
        "        print(\"Equilátero\")\n",
        "    elif lado1 == lado2 or lado2 == lado3 or lado3 == lado1:\n",
        "        print(\"Isóceles\")\n",
        "    else:\n",
        "        print(\"Escaleno\")\n",
        "else:\n",
        "    print(\"Não é um triângulo\")\n"
      ],
      "metadata": {
        "colab": {
          "base_uri": "https://localhost:8080/"
        },
        "id": "QnRz5KpujHt4",
        "outputId": "a1f4411a-69ad-45f4-dfd3-b1aa15d3c928"
      },
      "execution_count": 9,
      "outputs": [
        {
          "output_type": "stream",
          "name": "stdout",
          "text": [
            "Lado 1:1\n",
            "Lado 2:1\n",
            "Lado 3:7\n",
            "Não é um triângulo\n"
          ]
        }
      ]
    },
    {
      "cell_type": "code",
      "source": [
        "#numero 9\n",
        "from math import sqrt\n",
        "\n",
        "lado1 = int(input(\"Lado 1 em m:\"))\n",
        "lado2 = int(input(\"Lado 2 em m:\"))\n",
        "lado3 = int(input(\"Lado 3 em m:\"))\n",
        "\n",
        "\n",
        "n1 = lado1 + lado2\n",
        "n2 = lado2 + lado3\n",
        "n3 = lado3 + lado1\n",
        "\n",
        "if n1 > lado3 and n2 > lado1 and n3 > lado2:\n",
        "    p = (lado1 + lado2 + lado3)/2 #semiperimetro\n",
        "\n",
        "    a = sqrt(p * (p - lado1)*(p - lado2)*(p - lado3)) #area\n",
        "\n",
        "    print(f\"A area desse triângulo é : {a} metros quadrados\")\n",
        "else:\n",
        "    print(\"Não é um triângulo\")\n"
      ],
      "metadata": {
        "colab": {
          "base_uri": "https://localhost:8080/"
        },
        "id": "7mq_y4bH21dD",
        "outputId": "fe4fd169-f2ca-4fe2-808d-1e14123477a6"
      },
      "execution_count": 10,
      "outputs": [
        {
          "output_type": "stream",
          "name": "stdout",
          "text": [
            "Lado 1 em m:5\n",
            "Lado 2 em m:5\n",
            "Lado 3 em m:2\n",
            "A area desse triângulo é : 4.898979485566356 metros quadrados\n"
          ]
        }
      ]
    },
    {
      "cell_type": "code",
      "source": [
        "#numero 10\n",
        "medias = []\n",
        "soma_nota_ciclo = 0\n",
        "media_do_ciclo = 0\n",
        "\n",
        "for i in range(0, 3):#ciclos\n",
        "    print(f\"::::::Ciclo {i + 1}::::::\")\n",
        "    for j in range(0, 4):#notas de um ciclo\n",
        "        while True:\n",
        "            try:\n",
        "                nota = float(input(f\"Nota{j+1}: \"))\n",
        "                if nota <=10 and nota >=0:\n",
        "                    break\n",
        "\n",
        "            except:\n",
        "                pass\n",
        "\n",
        "\n",
        "        soma_nota_ciclo += nota\n",
        "\n",
        "    media_do_ciclo = soma_nota_ciclo / 4\n",
        "\n",
        "    soma_nota_ciclo = 0\n",
        "\n",
        "    medias.append(media_do_ciclo)\n",
        "\n",
        "soma_medias_ciclo = 0\n",
        "media_semestre = 0\n",
        "\n",
        "for n in medias:\n",
        "    soma_medias_ciclo += n\n",
        "\n",
        "    media_semestre= soma_medias_ciclo / 3\n",
        "\n",
        "print(f\"Média: {media_semestre}\")\n"
      ],
      "metadata": {
        "id": "2Cnajcv39hiB"
      },
      "execution_count": null,
      "outputs": []
    }
  ]
}