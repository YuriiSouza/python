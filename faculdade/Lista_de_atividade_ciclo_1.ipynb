{
  "cells": [
    {
      "cell_type": "code",
      "execution_count": null,
      "metadata": {
        "colab": {
          "base_uri": "https://localhost:8080/"
        },
        "id": "3GGT9dvLcmG5",
        "outputId": "50df207b-3144-4756-cdcb-96fce4d7e580"
      },
      "outputs": [
        {
          "name": "stdout",
          "output_type": "stream",
          "text": [
            "Número 1:2\n",
            "Número 2:2\n",
            "a soma é 4\n"
          ]
        }
      ],
      "source": [
        "#numero 1\n",
        "n1 = int(input(\"Número 1:\"))\n",
        "n2 = int(input(\"Número 2:\"))\n",
        "\n",
        "soma = n1 + n2\n",
        "\n",
        "print(f\"a soma é {soma}\")"
      ]
    },
    {
      "cell_type": "code",
      "execution_count": null,
      "metadata": {
        "colab": {
          "base_uri": "https://localhost:8080/"
        },
        "id": "e6ENHBNDc13w",
        "outputId": "3d2e0e80-5deb-4ad4-f207-f95e238a3f94"
      },
      "outputs": [
        {
          "name": "stdout",
          "output_type": "stream",
          "text": [
            "Adcine o número: 1\n",
            "Adcine o número: 2\n",
            "Adcine o número: 3\n",
            "Maior = 3.0\n"
          ]
        }
      ],
      "source": [
        "#número 2\n",
        "numeros = []\n",
        "maior = 0\n",
        "\n",
        "quant_numeros = 3\n",
        "\n",
        "for n in range(0, quant_numeros):\n",
        "    numeros.append(float(input(\"Adcine o número: \")))\n",
        "\n",
        "\n",
        "for n in numeros:\n",
        "    if n > maior:\n",
        "        maior = n\n",
        "    else:\n",
        "        maior = maior\n",
        "\n",
        "print(f\"Maior = {maior}\")\n"
      ]
    },
    {
      "cell_type": "code",
      "execution_count": null,
      "metadata": {
        "colab": {
          "base_uri": "https://localhost:8080/"
        },
        "id": "befLZuzgfwv-",
        "outputId": "0a09efe5-9fd9-491b-d367-ab9cfb702a83"
      },
      "outputs": [
        {
          "name": "stdout",
          "output_type": "stream",
          "text": [
            "Adcine o número: 20\n",
            "Adcine o número: 10\n",
            "Adcine o número: 5\n",
            "Menor = 5.0\n"
          ]
        }
      ],
      "source": [
        "#número 3\n",
        "numeros = []\n",
        "\n",
        "quant_numeros = 3\n",
        "\n",
        "for n in range(0, quant_numeros):\n",
        "    numeros.append(float(input(\"Adcine o número: \")))\n",
        "\n",
        "\n",
        "for index, n in enumerate(numeros):\n",
        "    if index == 0:\n",
        "      menor = n\n",
        "    elif menor > n:\n",
        "      menor = n\n",
        "    else:\n",
        "      menor = menor\n",
        "\n",
        "print(f\"Menor = {menor}\")\n"
      ]
    },
    {
      "cell_type": "code",
      "execution_count": null,
      "metadata": {
        "colab": {
          "base_uri": "https://localhost:8080/"
        },
        "id": "9vi88-wlhac4",
        "outputId": "16108e49-6923-44d6-f52f-27b7a4d9ca96"
      },
      "outputs": [
        {
          "name": "stdout",
          "output_type": "stream",
          "text": [
            ".\n",
            ".\n",
            ".\n",
            ".\n",
            ".\n",
            ".\n",
            "Grave\n",
            ".\n",
            ".\n",
            ".\n",
            ".\n",
            ".\n",
            "Grave\n",
            ".\n",
            ".\n",
            ".\n",
            "Grave\n",
            "explodiu\n"
          ]
        }
      ],
      "source": [
        "#numero 4\n",
        "from time import sleep\n",
        "from random import randint\n",
        "\n",
        "cont = 0\n",
        "while True:\n",
        "    indice_de_gravidade = randint(0, 10)\n",
        "\n",
        "    if indice_de_gravidade > 9:\n",
        "        print(\"Grave\")\n",
        "        cont = cont + 1\n",
        "        sleep(1)\n",
        "    else:\n",
        "        print(\".\")\n",
        "        sleep(1)\n",
        "\n",
        "    if cont >= 3:\n",
        "        print(\"explodiu\")\n",
        "        sleep(2)\n",
        "        break\n"
      ]
    },
    {
      "cell_type": "code",
      "execution_count": null,
      "metadata": {
        "colab": {
          "base_uri": "https://localhost:8080/"
        },
        "id": "7s0HNe0Hj3zb",
        "outputId": "619a21f6-e61d-4245-dd49-6f031c60a8c2"
      },
      "outputs": [
        {
          "name": "stdout",
          "output_type": "stream",
          "text": [
            "Nível de risco: 10\n",
            "Grave\n",
            "Nível de risco: 5\n",
            ".\n",
            "Nível de risco: 8\n",
            ".\n",
            "Nível de risco: 10\n",
            "Grave\n",
            "Nível de risco: 11\n",
            "Nível de risco: 10\n",
            "Grave\n",
            "explodiu\n"
          ]
        }
      ],
      "source": [
        "#numero 5\n",
        "from time import sleep\n",
        "\n",
        "cont = 0\n",
        "while True:\n",
        "    while True:\n",
        "        indice_de_gravidade = int(input(\"Nível de risco: \"))\n",
        "\n",
        "        if indice_de_gravidade > 0 and indice_de_gravidade <= 10:\n",
        "            break\n",
        "\n",
        "    if indice_de_gravidade > 9:\n",
        "        print(\"Grave\")\n",
        "        cont = cont + 1\n",
        "        sleep(1)\n",
        "    else:\n",
        "        print(\".\")\n",
        "        sleep(1)\n",
        "\n",
        "    if cont >= 3:\n",
        "        print(\"explodiu\")\n",
        "        sleep(2)\n",
        "        break\n"
      ]
    },
    {
      "cell_type": "code",
      "execution_count": null,
      "metadata": {
        "colab": {
          "base_uri": "https://localhost:8080/"
        },
        "id": "BhLoXXCAkmbM",
        "outputId": "24a79a8d-8a2d-47b6-9ea0-637fa4af003e"
      },
      "outputs": [
        {
          "name": "stdout",
          "output_type": "stream",
          "text": [
            "Alto\n",
            "Baixo\n",
            "Alto\n",
            "Baixo\n",
            "Médio\n",
            "Baixo\n",
            "Baixo\n",
            "Médio\n",
            "Baixo\n",
            "Médio\n",
            "Baixo\n",
            "Médio\n",
            "Médio\n",
            "Baixo\n",
            "Médio\n",
            "Baixo\n",
            "Alto\n",
            "Baixo\n",
            "Médio\n",
            "Baixo\n",
            "Alto\n",
            "Médio\n",
            "Médio\n",
            "Alto\n",
            "Baixo\n",
            "Médio\n",
            "Alto\n",
            "Médio\n",
            "Médio\n",
            "Alto\n",
            "Baixo\n",
            "Alto\n",
            ".\n",
            "Baixo\n",
            "Alto\n",
            "Médio\n",
            "Médio\n",
            ".\n",
            "Grave\n",
            "Médio\n",
            "Grave\n",
            "Alto\n",
            "Médio\n",
            "Baixo\n",
            "Baixo\n",
            "Médio\n",
            "Baixo\n",
            "Médio\n",
            "Médio\n",
            "Alto\n",
            "Baixo\n",
            ".\n",
            "Baixo\n",
            "Baixo\n",
            "Grave\n",
            "explodiu\n"
          ]
        }
      ],
      "source": [
        "#número 6\n",
        "from time import sleep\n",
        "from random import randint\n",
        "\n",
        "cont = 0\n",
        "while True:\n",
        "    indice_de_gravidade = randint(0, 10)\n",
        "\n",
        "\n",
        "    if indice_de_gravidade > 9:\n",
        "        print(\"Grave\")\n",
        "        cont = cont + 1\n",
        "        sleep(1)\n",
        "    elif indice_de_gravidade <= 9 and indice_de_gravidade > 6:\n",
        "        print(\"Alto\")\n",
        "        sleep(1)\n",
        "    elif indice_de_gravidade <= 6 and indice_de_gravidade > 3:\n",
        "        print(\"Médio\")\n",
        "        sleep(1)\n",
        "    elif indice_de_gravidade <= 3 and indice_de_gravidade > 0:\n",
        "        print(\"Baixo\")\n",
        "        sleep(1)\n",
        "    else:\n",
        "        print(\".\")\n",
        "        sleep(1)\n",
        "\n",
        "    if cont >= 3:\n",
        "        print(\"explodiu\")\n",
        "        sleep(2)\n",
        "        break\n"
      ]
    },
    {
      "cell_type": "code",
      "execution_count": null,
      "metadata": {
        "colab": {
          "base_uri": "https://localhost:8080/"
        },
        "id": "-4sq4xXbot0l",
        "outputId": "85caaa3f-0f14-4cd0-b296-b9b8d10a5bcf"
      },
      "outputs": [
        {
          "name": "stdout",
          "output_type": "stream",
          "text": [
            "Numero:5\n",
            "Numero:2\n",
            "Numero:7\n",
            "Numero:6\n",
            "Numero:2\n",
            "[7, 6, 5, 2, 2]\n",
            "7 e multiplo de []\n",
            "6 e multiplo de [2, 2]\n",
            "5 e multiplo de []\n",
            "2 e multiplo de [2]\n",
            "2 e multiplo de []\n"
          ]
        }
      ],
      "source": [
        "#numero 7\n",
        "\n",
        "def ver_multiplos(numero):\n",
        "    for index, n in enumerate(numero):\n",
        "        divisores = []\n",
        "\n",
        "        for i in range(index+1, len(numero)):\n",
        "            divisao = numero[index] / numero[i]\n",
        "\n",
        "            if  divisao ==  int(divisao):\n",
        "                divisores.append(numero[i])\n",
        "\n",
        "        print(f\"{numero[index]} e multiplo de {divisores}\")\n",
        "\n",
        "numero = []\n",
        "\n",
        "for n in range(0, 3):\n",
        "    n1 = int(input(\"Numero:\"))\n",
        "    numero.append(n1)\n",
        "\n",
        "numero = sorted(numero, reverse = True)\n",
        "print(numero)\n",
        "\n",
        "ver_multiplos(numero)\n",
        "\n"
      ]
    },
    {
      "cell_type": "code",
      "execution_count": null,
      "metadata": {
        "colab": {
          "base_uri": "https://localhost:8080/"
        },
        "id": "QnRz5KpujHt4",
        "outputId": "a1f4411a-69ad-45f4-dfd3-b1aa15d3c928"
      },
      "outputs": [
        {
          "name": "stdout",
          "output_type": "stream",
          "text": [
            "Lado 1:1\n",
            "Lado 2:1\n",
            "Lado 3:7\n",
            "Não é um triângulo\n"
          ]
        }
      ],
      "source": [
        "#número 8\n",
        "lado1 = int(input(\"Lado 1:\"))\n",
        "lado2 = int(input(\"Lado 2:\"))\n",
        "lado3 = int(input(\"Lado 3:\"))\n",
        "\n",
        "n1 = lado1 + lado2\n",
        "n2 = lado2 + lado3\n",
        "n3 = lado3 + lado1\n",
        "\n",
        "if n1 > lado3 and n2 > lado1 and n3 > lado2:\n",
        "    if lado1 == lado2 and lado2 == lado3:\n",
        "        print(\"Equilátero\")\n",
        "    elif lado1 == lado2 or lado2 == lado3 or lado3 == lado1:\n",
        "        print(\"Isóceles\")\n",
        "    else:\n",
        "        print(\"Escaleno\")\n",
        "else:\n",
        "    print(\"Não é um triângulo\")\n"
      ]
    },
    {
      "cell_type": "code",
      "execution_count": null,
      "metadata": {
        "colab": {
          "base_uri": "https://localhost:8080/"
        },
        "id": "7mq_y4bH21dD",
        "outputId": "fe4fd169-f2ca-4fe2-808d-1e14123477a6"
      },
      "outputs": [
        {
          "name": "stdout",
          "output_type": "stream",
          "text": [
            "Lado 1 em m:5\n",
            "Lado 2 em m:5\n",
            "Lado 3 em m:2\n",
            "A area desse triângulo é : 4.898979485566356 metros quadrados\n"
          ]
        }
      ],
      "source": [
        "#numero 9\n",
        "from math import sqrt\n",
        "\n",
        "lado1 = int(input(\"Lado 1 em m:\"))\n",
        "lado2 = int(input(\"Lado 2 em m:\"))\n",
        "lado3 = int(input(\"Lado 3 em m:\"))\n",
        "\n",
        "\n",
        "n1 = lado1 + lado2\n",
        "n2 = lado2 + lado3\n",
        "n3 = lado3 + lado1\n",
        "\n",
        "if n1 > lado3 and n2 > lado1 and n3 > lado2:\n",
        "    p = (lado1 + lado2 + lado3)/2 #semiperimetro\n",
        "\n",
        "    a = sqrt(p * (p - lado1)*(p - lado2)*(p - lado3)) #area\n",
        "\n",
        "    print(f\"A area desse triângulo é : {a} metros quadrados\")\n",
        "else:\n",
        "    print(\"Não é um triângulo\")\n"
      ]
    },
    {
      "cell_type": "code",
      "execution_count": null,
      "metadata": {
        "colab": {
          "base_uri": "https://localhost:8080/"
        },
        "id": "2Cnajcv39hiB",
        "outputId": "d9628e5d-0385-4c24-e459-c8551f6c25dd"
      },
      "outputs": [
        {
          "name": "stdout",
          "output_type": "stream",
          "text": [
            "::::::Ciclo 1::::::\n",
            "Nota1: 10\n",
            "Nota2: 10\n",
            "Nota3: 10\n",
            "Nota4: 10\n",
            "::::::Ciclo 2::::::\n",
            "Nota1: 10\n",
            "Nota2: 5\n",
            "Nota3: 4\n",
            "Nota4: 6\n",
            "::::::Ciclo 3::::::\n",
            "Nota1: 8\n",
            "Nota2: 4\n",
            "Nota3: 2\n",
            "Nota4: 5\n",
            "Média: 7.0\n"
          ]
        }
      ],
      "source": [
        "#numero 10\n",
        "medias = []\n",
        "soma_nota_ciclo = 0\n",
        "media_do_ciclo = 0\n",
        "\n",
        "for i in range(0, 3):#ciclos\n",
        "    print(f\"::::::Ciclo {i + 1}::::::\")\n",
        "    for j in range(0, 4):#notas de um ciclo\n",
        "        while True:\n",
        "            try:\n",
        "                nota = float(input(f\"Nota{j+1}: \"))\n",
        "                if nota <=10 and nota >=0:\n",
        "                    break\n",
        "\n",
        "            except:\n",
        "                pass\n",
        "\n",
        "\n",
        "        soma_nota_ciclo += nota\n",
        "\n",
        "    media_do_ciclo = soma_nota_ciclo / 4\n",
        "\n",
        "    soma_nota_ciclo = 0\n",
        "\n",
        "    medias.append(media_do_ciclo)\n",
        "\n",
        "soma_medias_ciclo = 0\n",
        "media_semestre = 0\n",
        "\n",
        "for n in medias:\n",
        "    soma_medias_ciclo += n\n",
        "\n",
        "    media_semestre= soma_medias_ciclo / 3\n",
        "\n",
        "print(f\"Média: {media_semestre}\")\n"
      ]
    },
    {
      "cell_type": "code",
      "execution_count": null,
      "metadata": {
        "colab": {
          "base_uri": "https://localhost:8080/"
        },
        "id": "WTKtgLXoyt53",
        "outputId": "ca1dc7f2-99c9-4bed-8734-2a6fc77c642a"
      },
      "outputs": [
        {
          "name": "stdout",
          "output_type": "stream",
          "text": [
            "A soma dos pesos deve totalizar 10.\n",
            "Peso da nota 1: 5\n",
            "Peso da nota 2: 2\n",
            "Peso da nota 3: 1\n",
            "Peso da nota 4: 2\n",
            "::::::Ciclo 1::::::\n",
            "Nota1: 10\n",
            "Nota2: 10\n",
            "Nota3: 10\n",
            "Nota4: 10\n",
            "::::::Ciclo 2::::::\n",
            "Nota1: 10\n",
            "Nota2: 10\n",
            "Nota3: 10\n",
            "Nota4: 10\n",
            "::::::Ciclo 3::::::\n",
            "Nota1: 10\n",
            "Nota2: 10\n",
            "Nota3: 10\n",
            "Nota4: 10\n",
            "Média: 10.0\n"
          ]
        }
      ],
      "source": [
        "#numero 11\n",
        "\n",
        "medias = []\n",
        "soma_nota_ciclo = 0\n",
        "media_do_ciclo = 0\n",
        "pesos = []\n",
        "soma_de_pesos = 0\n",
        "\n",
        "\n",
        "while True:\n",
        "    print(\"A soma dos pesos deve totalizar 10.\")\n",
        "\n",
        "    for j in range(0, 4):#peso de cada nota\n",
        "        while True:\n",
        "            try:\n",
        "                peso = float(input(f\"Peso da nota {j+1}: \"))\n",
        "\n",
        "                if peso == int(peso):\n",
        "                    pesos.append(peso)\n",
        "                    break\n",
        "\n",
        "            except:\n",
        "                pass\n",
        "\n",
        "    for p in pesos:\n",
        "        soma_de_pesos += p\n",
        "\n",
        "    if soma_de_pesos == 10:\n",
        "        break\n",
        "    else:\n",
        "        print(\"Pesos inválidos\", end=\"\\n\")\n",
        "        pesos.clear()\n",
        "        soma_de_pesos = 0\n",
        "\n",
        "\n",
        "for i in range(0, 3):#ciclos\n",
        "    print(f\"::::::Ciclo {i + 1}::::::\")\n",
        "    for j in range(0, 4):#notas de um ciclo\n",
        "        while True:\n",
        "            try:\n",
        "                nota = float(input(f\"Nota{j+1}: \"))\n",
        "                if nota <=10 and nota >=0:\n",
        "                    break\n",
        "\n",
        "            except:\n",
        "                pass\n",
        "\n",
        "\n",
        "        soma_nota_ciclo += (nota * pesos[j])/10\n",
        "\n",
        "    medias.append(soma_nota_ciclo)\n",
        "    soma_nota_ciclo = 0\n",
        "\n",
        "\n",
        "soma_medias_ciclo = 0\n",
        "media_semestre = 0\n",
        "\n",
        "# print(medias)\n",
        "for n in medias:\n",
        "    soma_medias_ciclo += n\n",
        "\n",
        "    media_semestre= soma_medias_ciclo / 3\n",
        "\n",
        "print(f\"Média: {media_semestre}\")\n"
      ]
    },
    {
      "cell_type": "code",
      "execution_count": null,
      "metadata": {
        "colab": {
          "base_uri": "https://localhost:8080/"
        },
        "id": "WHPZR2S6y6f5",
        "outputId": "a48a6ca7-0866-4fcb-f999-c503985329fe"
      },
      "outputs": [
        {
          "name": "stdout",
          "output_type": "stream",
          "text": [
            "pense em algum desses animais abaixo e responda: \n",
            "..pato..\n",
            "..águia..\n",
            "..galinha..\n",
            "..avestruz..\n",
            "..pinguim..\n",
            "..morcego..\n",
            "..ornitorrinco..\n",
            "..leão..\n",
            "..gato..\n",
            "..onça pintada..\n",
            "..baleia..\n",
            "..tubarão..\n",
            "..lambari..\n",
            "..enguia..\n",
            "..arraia..\n",
            "Tem pena? não\n",
            "Voa? não\n",
            "Vive na agua? não\n",
            "É um felino? sim\n",
            "tem juba? não\n",
            "é pequeno? sim\n",
            "gato\n"
          ]
        }
      ],
      "source": [
        "#numero 12\n",
        "animais = [\"pato\",\n",
        "    \"águia\",\n",
        "    \"galinha\",\n",
        "    \"avestruz\",\n",
        "    \"pinguim\",\n",
        "    \"morcego\",\n",
        "    \"ornitorrinco\",\n",
        "    \"leão\",\n",
        "    \"gato\",\n",
        "    \"onça pintada\",\n",
        "    \"baleia\",\n",
        "    \"tubarão\",\n",
        "    \"lambari\",\n",
        "    \"enguia\",\n",
        "    \"arraia\"\n",
        "    ]\n",
        "\n",
        "print(\"pense em algum desses animais abaixo e responda: \")\n",
        "\n",
        "for n in animais:\n",
        "    print(f\"..{n}..\")\n",
        "\n",
        "pergunta = str(input(\"Tem pena? \"))\n",
        "if 'sim' in pergunta:\n",
        "    animais = [\"pato\",\n",
        "    \"águia\",\n",
        "    \"galinha\",\n",
        "    \"avestruz\",\n",
        "    \"pinguim\"]\n",
        "\n",
        "    pergunta = str(input(\"Voa? \"))\n",
        "    if 'sim' in pergunta:\n",
        "        animais = [\"pato\",\n",
        "        \"águia\"]\n",
        "\n",
        "        pergunta = str(input(\"Nada? \"))\n",
        "        if 'sim' in pergunta:\n",
        "            animais = [\"pato\"]\n",
        "        else:\n",
        "            animais = [\"águia\"]\n",
        "    else:\n",
        "        animais = [\"galinha\",\n",
        "        \"avestruz\",\n",
        "        \"pinguim\"\n",
        "        ]\n",
        "\n",
        "        pergunta = str(input(\"Nada? \"))\n",
        "        if 'sim' in pergunta:\n",
        "            animais = [\"pinguim\"]\n",
        "        else:\n",
        "            animais = [\"galinha\",\n",
        "            \"avestruz\"\n",
        "            ]\n",
        "            pergunta = str(input(\"é grande? \"))\n",
        "            if 'sim' in pergunta:\n",
        "                animais = [\"avestruz\"]\n",
        "            else:\n",
        "                animais = [\"galinha\"]\n",
        "else:\n",
        "    animais = [\"morcego\",\n",
        "    \"ornitorrinco\",\n",
        "    \"leão\",\n",
        "    \"gato\",\n",
        "    \"onça pintada\",\n",
        "    \"baleia\",\n",
        "    \"tubarão\",\n",
        "    \"lambari\",\n",
        "    \"enguia\",\n",
        "    \"arraia\"\n",
        "    ]\n",
        "    pergunta = str(input(\"Voa? \"))\n",
        "    if 'sim' in pergunta:\n",
        "        animais = [\"morcego\"]\n",
        "    else:\n",
        "        animais = [\"ornitorrinco\",\n",
        "        \"leão\",\n",
        "        \"gato\",\n",
        "        \"onça pintada\",\n",
        "        \"baleia\",\n",
        "        \"tubarão\",\n",
        "        \"lambari\",\n",
        "        \"enguia\",\n",
        "        \"arraia\"\n",
        "        ]\n",
        "        pergunta = str(input(\"Vive na agua? \"))\n",
        "        if 'sim' in pergunta:\n",
        "            animais = [\"baleia\",\n",
        "                \"tubarão\",\n",
        "                \"lambari\",\n",
        "                \"enguia\",\n",
        "                \"arraia\"]\n",
        "\n",
        "            pergunta = str(input(\"é um peixe? \"))\n",
        "            if 'sim' in pergunta:\n",
        "                animais = [\"tubarão\",\n",
        "                    \"lambari\",\n",
        "                    \"arraia\"]\n",
        "                pergunta = str(input(\"tem ferrão? \"))\n",
        "                if 'sim' in pergunta:\n",
        "                    animais = [\"arraia\"]\n",
        "                else:\n",
        "                    pergunta = str(input(\"São predadores? \"))\n",
        "                    if 'sim' in pergunta:\n",
        "                        animais = [\"tubarão\"]\n",
        "                    else:\n",
        "                        animais = [\"lambari\"]\n",
        "            else:\n",
        "                animais = [\"baleia\",\n",
        "                        \"enguia\"]\n",
        "\n",
        "                pergunta = str(input(\"é um mamífero? \"))\n",
        "                if 'sim' in pergunta:\n",
        "                    animais = [\"baleia\"]\n",
        "                else:\n",
        "                    animais = [\"enguia\"]\n",
        "        else:\n",
        "            animais = [\"ornitorrinco\",\n",
        "            \"leão\",\n",
        "            \"gato\",\n",
        "            \"onça pintada\"\n",
        "            ]\n",
        "            pergunta = str(input(\"É um felino? \"))\n",
        "            if 'sim' in pergunta:\n",
        "                animais = [\"leão\",\n",
        "                \"gato\",\n",
        "                \"onça pintada\"]\n",
        "                pergunta = str(input(\"tem juba? \"))\n",
        "                if 'sim' in pergunta:\n",
        "                    animais = [\"leão\"]\n",
        "                else:\n",
        "                    animais = [\"gato\",\n",
        "                    \"onça pintada\"]\n",
        "\n",
        "                    pergunta = str(input(\"é pequeno? \"))\n",
        "                    if 'sim' in pergunta:\n",
        "                        animais = [\"gato\"]\n",
        "                    else:\n",
        "                        animais = [\"onça pintada\"]\n",
        "\n",
        "            else:\n",
        "                animais = [\"ornitorrinco\"]\n",
        "\n",
        "\n",
        "\n",
        "\n",
        "print(animais[0])\n"
      ]
    },
    {
      "cell_type": "code",
      "execution_count": null,
      "metadata": {
        "colab": {
          "base_uri": "https://localhost:8080/"
        },
        "id": "lG6x3GZe3IZx",
        "outputId": "c28a8776-cbda-439f-8156-e45427854313"
      },
      "outputs": [
        {
          "name": "stdout",
          "output_type": "stream",
          "text": [
            "Numero: 23\n",
            "Numero: 10\n",
            "Numero: 8\n",
            "8\n",
            "10\n",
            "23\n"
          ]
        }
      ],
      "source": [
        "#numero 13\n",
        "numeros = []\n",
        "\n",
        "for i in range(0, 3):\n",
        "    numeros.append(int(input(\"Numero: \")))\n",
        "\n",
        "\n",
        "numeros = sorted(numeros)\n",
        "\n",
        "for i in range(0, 3):\n",
        "    print(numeros[i])\n"
      ]
    },
    {
      "cell_type": "code",
      "execution_count": null,
      "metadata": {
        "colab": {
          "base_uri": "https://localhost:8080/"
        },
        "id": "02AoguOW3MUE",
        "outputId": "c6a0add8-af1b-46e1-ca9b-9d7558291c32"
      },
      "outputs": [
        {
          "name": "stdout",
          "output_type": "stream",
          "text": [
            "Numero: 23\n",
            "Numero: 10\n",
            "Numero: 8\n",
            "23\n",
            "10\n",
            "8\n"
          ]
        }
      ],
      "source": [
        "#numero 14\n",
        "numeros = []\n",
        "\n",
        "for i in range(0, 3):\n",
        "    numeros.append(int(input(\"Numero: \")))\n",
        "\n",
        "\n",
        "numeros = sorted(numeros, reverse = True)\n",
        "\n",
        "for i in range(0, 3):\n",
        "    print(numeros[i])\n"
      ]
    },
    {
      "cell_type": "code",
      "execution_count": null,
      "metadata": {
        "colab": {
          "base_uri": "https://localhost:8080/"
        },
        "id": "DfCa9HD83YzN",
        "outputId": "a91ac7be-c6d7-4a8e-eea0-b1b6613a671f"
      },
      "outputs": [
        {
          "name": "stdout",
          "output_type": "stream",
          "text": [
            "Informe sua matrícula: \n",
            "Matrícula: 45\n",
            "Nome: yuri\n",
            "Gênero: m\n",
            "Curso: ads\n",
            "Coeficiente de rendimento: 99\n",
            "Nome: yuri\n",
            "Gênero: Masculino\n",
            "Curso: Analise e Desenvolvimento de Sistemas\n",
            "Coeficiente de rendimento: Escelente\n"
          ]
        }
      ],
      "source": [
        "#numero 15\n",
        "cadastros_alunos = {\n",
        "}\n",
        "\n",
        "todas_matriculas = cadastros_alunos.keys()\n",
        "\n",
        "print(\"Informe sua matrícula: \")\n",
        "matricula = int(input(\"Matrícula: \"))\n",
        "\n",
        "try:\n",
        "    print(cadastros_alunos[matricula])\n",
        "except:\n",
        "    while True:\n",
        "        try:\n",
        "            nome = str(input(\"Nome: \"))\n",
        "            break\n",
        "        except:\n",
        "            print(\"Erro\")\n",
        "\n",
        "    while True:\n",
        "        try:\n",
        "            genero = str(input(\"Gênero: \"))\n",
        "            if genero.lower() in \"mf\":\n",
        "                break\n",
        "        except:\n",
        "            print(\"Erro\")\n",
        "\n",
        "    while True:\n",
        "        try:\n",
        "            curso = str(input(\"Curso: \"))\n",
        "            if curso.lower() == \"bes\" or curso == \"bec\" or curso ==\"ads\":\n",
        "                break\n",
        "        except:\n",
        "            print(\"Erro\")\n",
        "\n",
        "    while True:\n",
        "        try:\n",
        "            coeficiente_de_rendimento = int(input(\"Coeficiente de rendimento: \"))\n",
        "            if coeficiente_de_rendimento >= 0 and coeficiente_de_rendimento <= 100:\n",
        "                break\n",
        "        except:\n",
        "            print(\"Erro\")\n",
        "\n",
        "    cadastros_alunos[matricula] = {\"Nome\": nome,\n",
        "                  \"Gênero\": genero,\n",
        "                  \"Curso\": curso,\n",
        "                  \"Coeficiente de rendimento\": coeficiente_de_rendimento,\n",
        "                  }\n",
        "\n",
        "dados = cadastros_alunos[matricula]\n",
        "\n",
        "print(f'Nome: {dados[\"Nome\"]}')\n",
        "\n",
        "if dados[\"Gênero\"] == 'm':\n",
        "    print('Gênero: Masculino')\n",
        "else:\n",
        "    print('Gênero: Feminino')\n",
        "\n",
        "if dados[\"Curso\"] == 'bes':\n",
        "    print('Curso: Bacharelado em Engenharia de Software')\n",
        "elif dados[\"Curso\"] == 'bec':\n",
        "    print('Curso: “Bacharelado em Engenharia de Computação')\n",
        "else:\n",
        "    print('Curso: Analise e Desenvolvimento de Sistemas')\n",
        "\n",
        "if dados[\"Coeficiente de rendimento\"] > 90:\n",
        "    print('Coeficiente de rendimento: Escelente')\n",
        "elif dados[\"Coeficiente de rendimento\"] > 70 and dados[\"Coeficiente de rendimento\"] <= 90:\n",
        "    print('Coeficiente de rendimento: Bom')\n",
        "elif dados[\"Coeficiente de rendimento\"] > 50 and dados[\"Coeficiente de rendimento\"] <= 70:\n",
        "    print('Coeficiente de rendimento: Regular')\n",
        "elif dados[\"Coeficiente de rendimento\"] > 30 and dados[\"Coeficiente de rendimento\"] <= 50:\n",
        "    print('Coeficiente de rendimento: Necessita melhorar')\n",
        "elif dados[\"Coeficiente de rendimento\"] >= 0 and dados[\"Coeficiente de rendimento\"] <= 30:\n",
        "    print('Coeficiente de rendimento: Preucupante')\n"
      ]
    },
    {
      "cell_type": "code",
      "execution_count": null,
      "metadata": {
        "colab": {
          "base_uri": "https://localhost:8080/"
        },
        "id": "rom31S7c4A1e",
        "outputId": "2e02784b-11dc-45d6-ce4b-df4c2e7f9b44"
      },
      "outputs": [
        {
          "name": "stdout",
          "output_type": "stream",
          "text": [
            "Temperatura: ºC ou ºF: 10°f\n",
            "-12.22 ºC\n",
            "10.0 ºF\n"
          ]
        }
      ],
      "source": [
        "#numero 16\n",
        "\n",
        "def print_temp(celsius, fahrenheit):\n",
        "    print(f\"{celsius:.2f} ºC\")\n",
        "    print(f\"{fahrenheit} ºF\")\n",
        "\n",
        "\n",
        "while True:\n",
        "    temperatura = str(input(\"Temperatura: ºC ou ºF: \"))\n",
        "    temperatura = temperatura.split('°')\n",
        "\n",
        "    valor = float(temperatura[0].lower())\n",
        "\n",
        "    try:\n",
        "        tipo = temperatura[1].lower()\n",
        "    except:\n",
        "        tipo = ''\n",
        "\n",
        "    if \"c\" in tipo:\n",
        "        temperatura_celsius = valor\n",
        "        temperatura_fa = (1.8 * valor) + 32\n",
        "        print_temp(temperatura_celsius, temperatura_fa)\n",
        "        break\n",
        "\n",
        "    elif \"f\" in tipo:\n",
        "        temperatura_celsius = (valor - 32) / 1.8\n",
        "        temperatura_fa = valor\n",
        "        print_temp(temperatura_celsius, temperatura_fa)\n",
        "        break\n",
        "\n",
        "    else:\n",
        "        print(f\"Unidade de medida não reconhecida, formato({valor}°C)\")\n"
      ]
    },
    {
      "cell_type": "code",
      "execution_count": 2,
      "metadata": {
        "colab": {
          "base_uri": "https://localhost:8080/"
        },
        "id": "6kWbRXbv4C7S",
        "outputId": "dd5ae7c7-83ee-40d1-d636-c06aa5473dec"
      },
      "outputs": [
        {
          "name": "stdout",
          "output_type": "stream",
          "text": [
            "data: 31/12/2023\n",
            "O proximo dia é: 1 de janeiro de 2024\n"
          ]
        }
      ],
      "source": [
        "#numero 17\n",
        "def ano_bissexto(ano):\n",
        "    bissexto = bool\n",
        "\n",
        "    if ano % 4 == 0 and ano % 100 != 0:\n",
        "        bissexto = True\n",
        "\n",
        "    elif ano % 4 != 0 and ano % 400 != 0 :\n",
        "        bissexto = False\n",
        "\n",
        "    elif ano % 4 != 0 and ano % 400 == 0:\n",
        "        bissexto = True\n",
        "\n",
        "    return bissexto #retorna um valor bool, sé ou não bissexto\n",
        "\n",
        "def quant_dias_mes(mes_numero, bissexto):\n",
        "    if bissexto:\n",
        "        meses = [31,29,31, 30, 31,30, 31,31, 30,31, 30,31]\n",
        "    else:\n",
        "        meses = [31,28,31, 30, 31,30, 31,31, 30,31, 30,31]\n",
        "\n",
        "    return meses[mes_numero - 1]\n",
        "\n",
        "meses = [\"janeiro\", \"fevereiro\", \"março\", \"abril\", \"maio\", \"junho\", \"julho\", \"agosto\", \"setembro\", \"outubro\", \"novembro\", \"dezembro\"]\n",
        "\n",
        "while True:\n",
        "    try:\n",
        "        data = input(\"data: \")\n",
        "\n",
        "        if data[2] == '/' and data[5] == '/':#conferindo a formatação\n",
        "            data = data.split('/')#separando dia mes e ano em uma lista\n",
        "\n",
        "            bissexto = ano_bissexto(int(data[2]))\n",
        "\n",
        "            if int(data[1]) > 0 and int(data[1]) < 13: #verificando se o mes esta no limite certo\n",
        "                quant_dias_no_mes = quant_dias_mes(int(data[1]), bissexto)#conferindo quantidade de dias do mes escolhido\n",
        "                if int(data[0]) > 0 and int(data[0]) <= quant_dias_no_mes:#verificando se os dias estao dentro do prazo do mes\n",
        "                    break\n",
        "                else:\n",
        "                    print(\"Quantidade de dias incompatível com o mês\")\n",
        "            else:\n",
        "                print(\"mês não existe\")\n",
        "        else:\n",
        "            print(\"formatação: xx/xx/xxxx\")\n",
        "    except:\n",
        "        print(\"erro\")\n",
        "\n",
        "dia = int(data[0])\n",
        "if dia == quant_dias_no_mes:\n",
        "    dia_seguinte = 1\n",
        "else:\n",
        "    dia_seguinte = dia + 1\n",
        "\n",
        "mes = int(data[1]) - 1\n",
        "if mes == 11:\n",
        "    mes_seguinte = meses[0]\n",
        "else:\n",
        "    if dia == quant_dias_no_mes:\n",
        "        mes_seguinte = meses[mes + 1]\n",
        "    else:\n",
        "        mes_seguinte = meses[mes]\n",
        "\n",
        "\n",
        "ano = int(data[2])\n",
        "if mes == 11 and dia == quant_dias_no_mes:\n",
        "    ano_seguinte = ano + 1\n",
        "else:\n",
        "    ano_seguinte = ano\n",
        "\n",
        "print(f'O proximo dia é: {dia_seguinte} de {mes_seguinte} de {ano_seguinte}')\n"
      ]
    },
    {
      "cell_type": "code",
      "execution_count": 4,
      "metadata": {
        "colab": {
          "base_uri": "https://localhost:8080/"
        },
        "id": "07eAeqsx4E0-",
        "outputId": "cf2ced8c-eb91-46f8-a009-48229792c64b"
      },
      "outputs": [
        {
          "name": "stdout",
          "output_type": "stream",
          "text": [
            "data: 01/01/2023\n",
            "O dia anterior é: 31 de dezembro de 2022\n"
          ]
        }
      ],
      "source": [
        "def ano_bissexto(ano):\n",
        "    bissexto = bool\n",
        "\n",
        "    if ano % 4 == 0 and ano % 100 != 0:\n",
        "        bissexto = True\n",
        "\n",
        "    elif ano % 4 != 0 and ano % 400 != 0 :\n",
        "        bissexto = False\n",
        "\n",
        "    elif ano % 4 != 0 and ano % 400 == 0:\n",
        "        bissexto = True\n",
        "\n",
        "    return bissexto #retorna um valor bool, sé ou não bissexto\n",
        "\n",
        "def quant_dias_mes(mes_numero, bissexto):\n",
        "    if bissexto:\n",
        "        meses = [31,29,31, 30, 31,30, 31,31, 30,31, 30,31]\n",
        "    else:\n",
        "        meses = [31,28,31, 30, 31,30, 31,31, 30,31, 30,31]\n",
        "\n",
        "    return meses[mes_numero - 1]\n",
        "\n",
        "meses = [\"janeiro\", \"fevereiro\", \"março\", \"abril\", \"maio\", \"junho\", \"julho\", \"agosto\", \"setembro\", \"outubro\", \"novembro\", \"dezembro\"]\n",
        "\n",
        "while True:\n",
        "    try:\n",
        "        data = input(\"data: \")\n",
        "\n",
        "        if data[2] == '/' and data[5] == '/':#conferindo a formatação\n",
        "            data = data.split('/')#separando dia mes e ano em uma lista\n",
        "\n",
        "            bissexto = ano_bissexto(int(data[2]))\n",
        "\n",
        "            if int(data[1]) > 0 and int(data[1]) < 13: #verificando se o mes esta no limite certo\n",
        "                quant_dias_no_mes = quant_dias_mes(int(data[1]), bissexto)#conferindo quantidade de dias do mes escolhido\n",
        "                if int(data[0]) > 0 and int(data[0]) <= quant_dias_no_mes:#verificando se os dias estao dentro do prazo do mes\n",
        "                    break\n",
        "                else:\n",
        "                    print(\"Quantidade de dias incompatível com o mês\")\n",
        "            else:\n",
        "                print(\"mês não existe\")\n",
        "        else:\n",
        "            print(\"formatação: xx/xx/xxxx\")\n",
        "    except:\n",
        "        print(\"erro\")\n",
        "\n",
        "\n",
        "dia = int(data[0])\n",
        "mes = int(data[1])\n",
        "ano = int(data[2])\n",
        "\n",
        "if mes == 1:\n",
        "    mes_anterior = meses[11]\n",
        "else:\n",
        "    if dia == 1:\n",
        "        mes_anterior = meses[mes - 1]\n",
        "    mes_anterior = meses[mes - 1]\n",
        "\n",
        "quant_dias_no_mes_anterior = quant_dias_mes(mes-1, bissexto)\n",
        "if dia == 1:\n",
        "    dia_anterior = quant_dias_no_mes_anterior\n",
        "else:\n",
        "    dia_anterior = dia - 1\n",
        "\n",
        "\n",
        "if mes == 1 and dia == 1:\n",
        "    ano_anterior = ano - 1\n",
        "else:\n",
        "    ano_anterior = ano\n",
        "\n",
        "print(f'O dia anterior é: {dia_anterior} de {mes_anterior} de {ano_anterior}')\n"
      ]
    },
    {
      "cell_type": "code",
      "execution_count": 5,
      "metadata": {
        "colab": {
          "base_uri": "https://localhost:8080/"
        },
        "id": "HwIVXHYL4HHF",
        "outputId": "5fb58651-9607-4ec0-e955-6ae09523afe0"
      },
      "outputs": [
        {
          "name": "stdout",
          "output_type": "stream",
          "text": [
            "Valor em reais: 10000\n",
            "Número de parcelas: 40\n",
            "R$ 287.50\n",
            "R$ 287.50\n",
            "R$ 287.50\n",
            "R$ 287.50\n",
            "R$ 287.50\n",
            "R$ 287.50\n",
            "R$ 287.50\n",
            "R$ 287.50\n",
            "R$ 287.50\n",
            "R$ 287.50\n",
            "R$ 287.50\n",
            "R$ 287.50\n",
            "R$ 287.50\n",
            "R$ 287.50\n",
            "R$ 287.50\n",
            "R$ 287.50\n",
            "R$ 287.50\n",
            "R$ 287.50\n",
            "R$ 287.50\n",
            "R$ 287.50\n",
            "R$ 287.50\n",
            "R$ 287.50\n",
            "R$ 287.50\n",
            "R$ 287.50\n",
            "R$ 287.50\n",
            "R$ 287.50\n",
            "R$ 287.50\n",
            "R$ 287.50\n",
            "R$ 287.50\n",
            "R$ 287.50\n",
            "R$ 287.50\n",
            "R$ 287.50\n",
            "R$ 287.50\n",
            "R$ 287.50\n",
            "R$ 287.50\n",
            "R$ 287.50\n",
            "R$ 287.50\n",
            "R$ 287.50\n",
            "R$ 287.50\n",
            "R$ 287.50\n"
          ]
        }
      ],
      "source": [
        "#numero 19\n",
        "\n",
        "while True:\n",
        "    try:\n",
        "        valor = float(input(\"Valor em reais: \"))\n",
        "        parcelas = int(input('Número de parcelas: '))\n",
        "        if parcelas >= 12:\n",
        "            break\n",
        "        else:\n",
        "            print('O valor mínimo de parcelas é 12')\n",
        "    except:\n",
        "        print('erro')\n",
        "if parcelas >= 24 and parcelas < 36:\n",
        "    valor = (valor * 0.1) + valor\n",
        "elif parcelas >= 36:\n",
        "    valor = (valor * 0.15) + valor\n",
        "\n",
        "for n in range(0, parcelas):\n",
        "    print(f'R$ {(valor/parcelas):.2f}')\n"
      ]
    },
    {
      "cell_type": "code",
      "execution_count": 6,
      "metadata": {
        "colab": {
          "base_uri": "https://localhost:8080/"
        },
        "id": "ckmv6K3v4I0H",
        "outputId": "849dd802-ce9d-4802-9df1-afecc2eb38ec"
      },
      "outputs": [
        {
          "name": "stdout",
          "output_type": "stream",
          "text": [
            "Valor da venda: 40000\n",
            "Comissão R$ 550,00 + 14%. das vendas\n",
            "R$ 6150.00\n"
          ]
        }
      ],
      "source": [
        "#numero 20\n",
        "valor_da_venda = float(input('Valor da venda: '))\n",
        "\n",
        "if valor_da_venda > 0 and valor_da_venda < 20000:\n",
        "    print(\"Comissão R$ 400,00 + 14%. das vendas\")\n",
        "    comissao = (valor_da_venda * 0.14) + 400\n",
        "    print(f'R$ {comissao:.2f}')\n",
        "\n",
        "elif valor_da_venda >= 20000 and valor_da_venda < 40000:\n",
        "    print(\"Comissão R$ 500,00 + 14%. das vendas\")\n",
        "    comissao = (valor_da_venda * 0.14) + 500\n",
        "    print(f'R$ {comissao:.2f}')\n",
        "\n",
        "elif valor_da_venda >= 40000 and valor_da_venda < 60000:\n",
        "    print(\"Comissão R$ 550,00 + 14%. das vendas\")\n",
        "    comissao = (valor_da_venda * 0.14) + 550\n",
        "    print(f'R$ {comissao:.2f}')\n",
        "\n",
        "elif valor_da_venda >= 60000 and valor_da_venda < 80000:\n",
        "    print(\"Comissão R$ 600,00 + 14%. das vendas\")\n",
        "    comissao = (valor_da_venda * 0.14) + 600\n",
        "    print(f'R$ {comissao:.2f}')\n",
        "\n",
        "elif valor_da_venda >= 80000 and valor_da_venda < 100000:\n",
        "    print(\"Comissão R$ 650,00 + 16%. das vendas\")\n",
        "    comissao = (valor_da_venda * 0.14) + 650\n",
        "    print(f'R$ {comissao:.2f}')\n",
        "\n",
        "else:\n",
        "    print(\"Comissão R$ 700,00 + 16%. das vendas\")\n",
        "    comissao = (valor_da_venda * 0.14) + 400\n",
        "    print(f'R$ {comissao:.2f}')\n"
      ]
    }
  ],
  "metadata": {
    "colab": {
      "provenance": []
    },
    "kernelspec": {
      "display_name": "Python 3",
      "name": "python3"
    },
    "language_info": {
      "name": "python",
      "version": "3.10.11"
    }
  },
  "nbformat": 4,
  "nbformat_minor": 0
}
