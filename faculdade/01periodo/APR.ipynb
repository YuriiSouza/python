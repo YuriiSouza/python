{
  "nbformat": 4,
  "nbformat_minor": 0,
  "metadata": {
    "colab": {
      "provenance": []
    },
    "kernelspec": {
      "name": "python3",
      "display_name": "Python 3"
    },
    "language_info": {
      "name": "python"
    }
  },
  "cells": [
    {
      "cell_type": "code",
      "execution_count": 6,
      "metadata": {
        "id": "3cQXWzScfhAI",
        "colab": {
          "base_uri": "https://localhost:8080/"
        },
        "outputId": "6abcb64e-01b3-4253-bd6f-350b16d26454"
      },
      "outputs": [
        {
          "output_type": "stream",
          "name": "stdout",
          "text": [
            "Resposta a/b/c/d: a\n",
            "Parabéns, você acertou!\n",
            "Resposta a/b/c/d: a\n",
            "Ops, parece que sua resposta está incorreta. Aqui está uma dica: Tente uma abordagem com valores decimais\n"
          ]
        }
      ],
      "source": [
        "def input_answer():\n",
        "    answer = ''\n",
        "\n",
        "    while True:\n",
        "        answer = str(input(\"Resposta a/b/c/d: \"))\n",
        "        if answer.lower() in 'abcd':\n",
        "            break\n",
        "\n",
        "    return answer\n",
        "\n",
        "def selection_tip(number_of_question, tips):\n",
        "    tip = tips[number_of_question]\n",
        "\n",
        "    return tip\n",
        "\n",
        "def selection_correct_answer(number_of_question, answer_keys):\n",
        "    answer_key = answer_keys[number_of_question]\n",
        "\n",
        "    return answer_key\n",
        "\n",
        "def wrong_right(answer, correct_answer, tip):\n",
        "    if answer == correct_answer:\n",
        "        print(\"Parabéns, você acertou!\")\n",
        "    else:\n",
        "        print(f\"Ops, parece que sua resposta está incorreta. Aqui está uma dica: {tip}\")\n",
        "\n",
        "tips = [\"Use as fórmulas da trigonometria para triângulo retângulo\", \"Tente uma abordagem com valores decimais\"]#Dicionário com todas as dicas para cada questão\n",
        "answer_keys = ['a', 'b']\n",
        "\n",
        "numbers_of_questions =  2#Numéro de questões da lista\n",
        "\n",
        "for n in range(0, numbers_of_questions):#inicia a correção, para ser configurável com a quantidade de questões\n",
        "    tip = selection_tip(n, tips)\n",
        "    correct_answer = selection_correct_answer(n, answer_keys)\n",
        "    answer = input_answer()\n",
        "    wrong_right(answer, correct_answer, tip)\n",
        "\n",
        ""
      ]
    }
  ]
}